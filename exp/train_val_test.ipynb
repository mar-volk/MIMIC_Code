{
 "cells": [
  {
   "cell_type": "markdown",
   "metadata": {},
   "source": [
    "# Split Train, Validate, Test"
   ]
  },
  {
   "cell_type": "markdown",
   "metadata": {},
   "source": [
    "This notebook is used to split the raw csv-files from the MIMIC-III database into training, validation and test. Data is split by the SUBJECT_ID. This prevents a single patient with multiple admissions from being in training and test data."
   ]
  },
  {
   "cell_type": "code",
   "execution_count": 1,
   "metadata": {},
   "outputs": [],
   "source": [
    "import time\n",
    "import pickle\n",
    "from prep import PrepareData"
   ]
  },
  {
   "cell_type": "code",
   "execution_count": 2,
   "metadata": {},
   "outputs": [
    {
     "name": "stderr",
     "output_type": "stream",
     "text": [
      "/Users/martin/anaconda3/envs/medical_ml/lib/python3.6/site-packages/IPython/core/interactiveshell.py:3296: DtypeWarning: Columns (11) have mixed types. Specify dtype option on import or set low_memory=False.\n",
      "  exec(code_obj, self.user_global_ns, self.user_ns)\n"
     ]
    },
    {
     "data": {
      "text/plain": [
       "4621.474151134491"
      ]
     },
     "execution_count": 2,
     "metadata": {},
     "output_type": "execute_result"
    }
   ],
   "source": [
    "start = time.time()\n",
    "pre = PrepareData('all','../data/all')\n",
    "table_name_list = ['admissions','patients','prescriptions']\n",
    "pre.read_tables(table_name_list, store_pickle=True)\n",
    "time.time() - start"
   ]
  },
  {
   "cell_type": "code",
   "execution_count": 3,
   "metadata": {},
   "outputs": [
    {
     "name": "stdout",
     "output_type": "stream",
     "text": [
      "0\n",
      "0\n",
      "0\n"
     ]
    }
   ],
   "source": [
    "# Split the admissions table\n",
    "# Split 20% / 20% / 60%\n",
    "admissions_test = pre.admissions[pre.admissions['SUBJECT_ID'] % 5 == 0]\n",
    "admissions_val = pre.admissions[pre.admissions['SUBJECT_ID'] % 5 == 1]\n",
    "admissions_train = pre.admissions[pre.admissions['SUBJECT_ID'] % 5 > 1]\n",
    "\n",
    "# Check for overlap\n",
    "test_id = admissions_test['SUBJECT_ID']\n",
    "train_id = admissions_train['SUBJECT_ID']\n",
    "val_id = admissions_val['SUBJECT_ID']\n",
    "print(len(admissions_test.merge(admissions_train, on='SUBJECT_ID')))\n",
    "print(len(admissions_val.merge(admissions_test, on='SUBJECT_ID')))\n",
    "print(len(admissions_val.merge(admissions_train, on='SUBJECT_ID')))\n",
    "\n",
    "# save files with pickle\n",
    "folder_train = '../data/train/pickle/admissions.p'\n",
    "folder_test = '../data/test/pickle/admissions.p'\n",
    "folder_val = '../data/val/pickle/admissions.p'\n",
    "pickle.dump(admissions_train, open(folder_train, \"wb\"))\n",
    "pickle.dump(admissions_test, open(folder_test, \"wb\"))\n",
    "pickle.dump(admissions_val, open(folder_val, \"wb\"))"
   ]
  },
  {
   "cell_type": "code",
   "execution_count": 4,
   "metadata": {},
   "outputs": [
    {
     "name": "stdout",
     "output_type": "stream",
     "text": [
      "0\n",
      "0\n",
      "0\n"
     ]
    }
   ],
   "source": [
    "# Split the prescriptions table\n",
    "# Split 20% / 20% / 60%\n",
    "prescriptions_test = pre.prescriptions[pre.prescriptions['SUBJECT_ID'] % 5 == 0]\n",
    "prescriptions_val = pre.prescriptions[pre.prescriptions['SUBJECT_ID'] % 5 == 1]\n",
    "prescriptions_train = pre.prescriptions[pre.prescriptions['SUBJECT_ID'] % 5 > 1]\n",
    "\n",
    "# Check for overlap\n",
    "test_id = prescriptions_test['SUBJECT_ID']\n",
    "train_id = prescriptions_train['SUBJECT_ID']\n",
    "val_id = prescriptions_val['SUBJECT_ID']\n",
    "print(len(prescriptions_test.merge(prescriptions_train, on='SUBJECT_ID')))\n",
    "print(len(prescriptions_val.merge(prescriptions_test, on='SUBJECT_ID')))\n",
    "print(len(prescriptions_val.merge(prescriptions_train, on='SUBJECT_ID')))\n",
    "\n",
    "# save files with pickle\n",
    "folder_train = '../data/train/pickle/prescriptions.p'\n",
    "folder_test = '../data/test/pickle/prescriptions.p'\n",
    "folder_val = '../data/val/pickle/prescriptions.p'\n",
    "pickle.dump(prescriptions_train, open(folder_train, \"wb\"))\n",
    "pickle.dump(prescriptions_test, open(folder_test, \"wb\"))\n",
    "pickle.dump(prescriptions_val, open(folder_val, \"wb\"))"
   ]
  },
  {
   "cell_type": "code",
   "execution_count": 5,
   "metadata": {},
   "outputs": [
    {
     "name": "stdout",
     "output_type": "stream",
     "text": [
      "0\n",
      "0\n",
      "0\n"
     ]
    }
   ],
   "source": [
    "# Split the patients table\n",
    "# Split 20% / 20% / 60%\n",
    "patients_test = pre.patients[pre.patients['SUBJECT_ID'] % 5 == 0]\n",
    "patients_val = pre.patients[pre.patients['SUBJECT_ID'] % 5 == 1]\n",
    "patients_train = pre.patients[pre.patients['SUBJECT_ID'] % 5 > 1]\n",
    "\n",
    "# Check for overlap\n",
    "test_id = patients_test['SUBJECT_ID']\n",
    "train_id = patients_train['SUBJECT_ID']\n",
    "val_id = patients_val['SUBJECT_ID']\n",
    "print(len(patients_test.merge(patients_train, on='SUBJECT_ID')))\n",
    "print(len(patients_val.merge(patients_test, on='SUBJECT_ID')))\n",
    "print(len(patients_val.merge(patients_train, on='SUBJECT_ID')))\n",
    "\n",
    "# save files with pickle\n",
    "folder_train = '../data/train/pickle/patients.p'\n",
    "folder_test = '../data/test/pickle/patients.p'\n",
    "folder_val = '../data/val/pickle/patients.p'\n",
    "pickle.dump(patients_train, open(folder_train, \"wb\"))\n",
    "pickle.dump(patients_test, open(folder_test, \"wb\"))\n",
    "pickle.dump(patients_val, open(folder_val, \"wb\"))"
   ]
  },
  {
   "cell_type": "code",
   "execution_count": 6,
   "metadata": {},
   "outputs": [
    {
     "data": {
      "text/plain": [
       "0.6005159071367154"
      ]
     },
     "execution_count": 6,
     "metadata": {},
     "output_type": "execute_result"
    }
   ],
   "source": [
    "# Check ratios for splitted data\n",
    "len(patients_train) / len(pre.patients)"
   ]
  },
  {
   "cell_type": "code",
   "execution_count": 7,
   "metadata": {},
   "outputs": [
    {
     "data": {
      "text/plain": [
       "0.1997420464316423"
      ]
     },
     "execution_count": 7,
     "metadata": {},
     "output_type": "execute_result"
    }
   ],
   "source": [
    "len(patients_test) / len(pre.patients)"
   ]
  },
  {
   "cell_type": "code",
   "execution_count": 8,
   "metadata": {},
   "outputs": [
    {
     "data": {
      "text/plain": [
       "0.1997420464316423"
      ]
     },
     "execution_count": 8,
     "metadata": {},
     "output_type": "execute_result"
    }
   ],
   "source": [
    "len(patients_val) / len(pre.patients)"
   ]
  },
  {
   "cell_type": "code",
   "execution_count": 9,
   "metadata": {},
   "outputs": [
    {
     "data": {
      "text/plain": [
       "46520"
      ]
     },
     "execution_count": 9,
     "metadata": {},
     "output_type": "execute_result"
    }
   ],
   "source": [
    "# Total number of patients\n",
    "len(pre.patients)"
   ]
  },
  {
   "cell_type": "code",
   "execution_count": null,
   "metadata": {},
   "outputs": [],
   "source": []
  }
 ],
 "metadata": {
  "kernelspec": {
   "display_name": "Python 3",
   "language": "python",
   "name": "python3"
  },
  "language_info": {
   "codemirror_mode": {
    "name": "ipython",
    "version": 3
   },
   "file_extension": ".py",
   "mimetype": "text/x-python",
   "name": "python",
   "nbconvert_exporter": "python",
   "pygments_lexer": "ipython3",
   "version": "3.6.8"
  }
 },
 "nbformat": 4,
 "nbformat_minor": 2
}
