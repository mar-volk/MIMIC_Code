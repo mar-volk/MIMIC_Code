{
 "cells": [
  {
   "cell_type": "markdown",
   "metadata": {},
   "source": [
    "# Results of training a neural network for classification"
   ]
  },
  {
   "cell_type": "markdown",
   "metadata": {},
   "source": [
    "In this notebook I take a look at results from training a neural network (NN).\n",
    "\n",
    "I have already run 'exp/nn_clf_weightdecay_mort_07/train_model.py'. This script prepares training and validation data. A NN is trained on training data for different hyperparameters (weight decay) to make a classification. Each trained model is rated on a validation set. The fitted encoder and the trained model are saved as well as training and validation losses.\n",
    "\n",
    "The model uses the following data as a predictor:\n",
    "- prescribed drugs (from first 24 hours of admission)\n",
    "- diagnosis at admisson\n",
    "- age at admission\n",
    "- admission type\n",
    "- admission location\n",
    "- marital status\n",
    "- insurance\n",
    "\n",
    "It predicts mortality within the first 14 days from admission. For recently admitted patients this information reflects how critifal the status of a patient is."
   ]
  },
  {
   "cell_type": "code",
   "execution_count": 1,
   "metadata": {},
   "outputs": [],
   "source": [
    "import torch\n",
    "import numpy as np\n",
    "from sklearn.metrics import roc_auc_score, confusion_matrix\n",
    "import pandas as pd\n",
    "import pickle\n",
    "import matplotlib.pyplot as plt\n",
    "\n",
    "from prep import PrepareDataV2\n",
    "import prep.utils as utils"
   ]
  },
  {
   "cell_type": "markdown",
   "metadata": {},
   "source": [
    "## Preparation of test data"
   ]
  },
  {
   "cell_type": "markdown",
   "metadata": {},
   "source": [
    "I start by getting the test data, loading the encoder (which was fitted for the training data), and preparing the predictors and targets."
   ]
  },
  {
   "cell_type": "code",
   "execution_count": 2,
   "metadata": {},
   "outputs": [],
   "source": [
    "# PREPARE TEST DATA\n",
    "dtype = torch.float\n",
    "device = torch.device(\"cpu\")\n",
    "\n",
    "# load test data\n",
    "tables = ['admissions', 'patients', 'prescriptions']\n",
    "data_test = PrepareDataV2(name='test', root='../data/test')\n",
    "data_test.load_table_pickle_list(tables)\n",
    "\n",
    "# load encoder\n",
    "pat_enc = pickle.load(open('nn_clf_weightdecay_mort_07/encoder.p', 'rb'))\n",
    "\n",
    "# prepare predictors\n",
    "x_test, hadm_id_map_test = pat_enc.transform(data_test.prescriptions,\n",
    "                                             data_test.admissions,\n",
    "                                             data_test.patients)\n",
    "x_test = x_test.astype(np.float)\n",
    "x_test_t = torch.tensor(x_test, device=device, dtype=dtype)\n",
    "\n",
    "# prepare targets\n",
    "y_test = utils.patient_alive_after_duration(data_test.admissions, data_test.patients, hadm_id_map_test)\n",
    "y_test = y_test.astype(np.uint8)\n",
    "y_test_t = torch.tensor(y_test, device=device, dtype=torch.long).squeeze()"
   ]
  },
  {
   "cell_type": "markdown",
   "metadata": {},
   "source": [
    "## Find optimal hyper parameter for regularization"
   ]
  },
  {
   "cell_type": "markdown",
   "metadata": {},
   "source": [
    "The chosen model is a neural net with two linear layers. The model is regularized by two dropout layers with dropout percentage of 20%. In addition the model is restricted by weight decay with varied regularization parameter. Opimization is performed with Adam optimzier."
   ]
  },
  {
   "cell_type": "code",
   "execution_count": 3,
   "metadata": {},
   "outputs": [],
   "source": [
    "ROC_AUC = pd.read_csv('nn_clf_weightdecay_mort_07/results_val_ROC_AUC__.csv')"
   ]
  },
  {
   "cell_type": "code",
   "execution_count": 4,
   "metadata": {},
   "outputs": [
    {
     "data": {
      "text/plain": [
       "Text(0, 0.5, 'ROC AUC score')"
      ]
     },
     "execution_count": 4,
     "metadata": {},
     "output_type": "execute_result"
    },
    {
     "data": {
      "image/png": "[encoded data removed]",
      "text/plain": [
       "<Figure size 432x288 with 1 Axes>"
      ]
     },
     "metadata": {
      "needs_background": "light"
     },
     "output_type": "display_data"
    }
   ],
   "source": [
    "plt.semilogx(ROC_AUC['weight_decay'], ROC_AUC['roc_list'], marker='.')\n",
    "plt.xlabel('weight_decay')\n",
    "plt.ylabel('ROC AUC score')"
   ]
  },
  {
   "cell_type": "code",
   "execution_count": 5,
   "metadata": {},
   "outputs": [
    {
     "data": {
      "text/html": [
       "<div>\n",
       "<style scoped>\n",
       "    .dataframe tbody tr th:only-of-type {\n",
       "        vertical-align: middle;\n",
       "    }\n",
       "\n",
       "    .dataframe tbody tr th {\n",
       "        vertical-align: top;\n",
       "    }\n",
       "\n",
       "    .dataframe thead th {\n",
       "        text-align: right;\n",
       "    }\n",
       "</style>\n",
       "<table border=\"1\" class=\"dataframe\">\n",
       "  <thead>\n",
       "    <tr style=\"text-align: right;\">\n",
       "      <th></th>\n",
       "      <th>weight_decay</th>\n",
       "      <th>roc_list</th>\n",
       "    </tr>\n",
       "  </thead>\n",
       "  <tbody>\n",
       "    <tr>\n",
       "      <th>7</th>\n",
       "      <td>0.002154</td>\n",
       "      <td>0.848427</td>\n",
       "    </tr>\n",
       "    <tr>\n",
       "      <th>6</th>\n",
       "      <td>0.001000</td>\n",
       "      <td>0.848253</td>\n",
       "    </tr>\n",
       "    <tr>\n",
       "      <th>5</th>\n",
       "      <td>0.000464</td>\n",
       "      <td>0.843465</td>\n",
       "    </tr>\n",
       "  </tbody>\n",
       "</table>\n",
       "</div>"
      ],
      "text/plain": [
       "   weight_decay  roc_list\n",
       "7      0.002154  0.848427\n",
       "6      0.001000  0.848253\n",
       "5      0.000464  0.843465"
      ]
     },
     "execution_count": 5,
     "metadata": {},
     "output_type": "execute_result"
    }
   ],
   "source": [
    "ROC_AUC.sort_values(by='roc_list', ascending=False).head(3)"
   ]
  },
  {
   "cell_type": "markdown",
   "metadata": {},
   "source": [
    "The model was trained for ten different weight decay parameters, over several powers of 10. The diagram shows the area under the ROC curve with regard to the validation data. Its optimum is reached for a weight_decay of 0.001, and the corresponding AUC values is 0.85 .\n",
    "\n",
    "Now, I load the model that performed best on the validation data and apply it to the test data."
   ]
  },
  {
   "cell_type": "code",
   "execution_count": 6,
   "metadata": {},
   "outputs": [
    {
     "name": "stdout",
     "output_type": "stream",
     "text": [
      "test AUC-ROC: 0.8542604721147016\n"
     ]
    }
   ],
   "source": [
    "# load the best model (with regrad to validation data)\n",
    "model = torch.load('nn_clf_weightdecay_mort_07/results_0.001_/NN_Clf_mort.pt')\n",
    "model.eval()\n",
    "\n",
    "y_test_predict_proba = model.predict_proba(x_test_t)\n",
    "y_test_predict = model.predict(x_test_t)\n",
    "auc_test = roc_auc_score(y_test, y_test_predict_proba[:, 1])\n",
    "print('test AUC-ROC: ' + str(auc_test))"
   ]
  },
  {
   "cell_type": "markdown",
   "metadata": {},
   "source": [
    "The model also delivers an AUC of 0.85 on the test data. But what does an AUC of 0.85 mean?"
   ]
  },
  {
   "cell_type": "code",
   "execution_count": 7,
   "metadata": {},
   "outputs": [
    {
     "data": {
      "text/html": [
       "<div>\n",
       "<style scoped>\n",
       "    .dataframe tbody tr th:only-of-type {\n",
       "        vertical-align: middle;\n",
       "    }\n",
       "\n",
       "    .dataframe tbody tr th {\n",
       "        vertical-align: top;\n",
       "    }\n",
       "\n",
       "    .dataframe thead th {\n",
       "        text-align: right;\n",
       "    }\n",
       "</style>\n",
       "<table border=\"1\" class=\"dataframe\">\n",
       "  <thead>\n",
       "    <tr style=\"text-align: right;\">\n",
       "      <th></th>\n",
       "      <th>pred. neg.</th>\n",
       "      <th>pred. pos</th>\n",
       "    </tr>\n",
       "  </thead>\n",
       "  <tbody>\n",
       "    <tr>\n",
       "      <th>neg</th>\n",
       "      <td>10777</td>\n",
       "      <td>30</td>\n",
       "    </tr>\n",
       "    <tr>\n",
       "      <th>pos</th>\n",
       "      <td>814</td>\n",
       "      <td>175</td>\n",
       "    </tr>\n",
       "  </tbody>\n",
       "</table>\n",
       "</div>"
      ],
      "text/plain": [
       "     pred. neg.  pred. pos\n",
       "neg       10777         30\n",
       "pos         814        175"
      ]
     },
     "execution_count": 7,
     "metadata": {},
     "output_type": "execute_result"
    }
   ],
   "source": [
    "# Confusion matrix\n",
    "pd.DataFrame(confusion_matrix(1-y_test, 1-y_test_predict),\n",
    "             columns = ['pred. neg.', 'pred. pos'],\n",
    "             index = ['neg', 'pos'])"
   ]
  },
  {
   "cell_type": "markdown",
   "metadata": {},
   "source": [
    "Above, I have plotted the confusion matrix.\n",
    "\n",
    "- negative = patient alive after 14 days\n",
    "- positve = patient will pass away within 14 days from admission\n",
    "\n",
    "\n",
    "The confusion matrix tells us that 9% of all patients pass away within the first 14 days from admission.\n",
    "\n",
    "\n",
    "The true negative rate (TNR = TN / N) is 99.7%, meaning that 99.7% of the patients who will survive are classified correctly.\n",
    "\n",
    "On the other hand the true positive rate (TPR = TP / P) is 17.6%, meaning that 17.6% of the patients who will pass away are classified correctly.\n",
    "\n",
    "From the group of patients, that are predicted to survive, 93% actually survive.\n",
    "From the group of patients, that are predicted to pass away, 86% actually pass away."
   ]
  },
  {
   "cell_type": "code",
   "execution_count": 31,
   "metadata": {},
   "outputs": [],
   "source": [
    "from sklearn.metrics import roc_curve\n",
    "fpr, tpr, threshold = roc_curve(1 - y_test, 1 - y_test_predict_proba[:,1])"
   ]
  },
  {
   "cell_type": "code",
   "execution_count": 32,
   "metadata": {},
   "outputs": [
    {
     "data": {
      "text/plain": [
       "(0, 1)"
      ]
     },
     "execution_count": 32,
     "metadata": {},
     "output_type": "execute_result"
    },
    {
     "data": {
      "image/png": "[encoded data removed]",
      "text/plain": [
       "<Figure size 432x288 with 1 Axes>"
      ]
     },
     "metadata": {
      "needs_background": "light"
     },
     "output_type": "display_data"
    }
   ],
   "source": [
    "plt.plot(fpr, tpr)\n",
    "plt.plot([0,1], [0,1] )\n",
    "plt.xlabel('FPR')\n",
    "plt.ylabel('TPR')\n",
    "plt.title('ROC curve')\n",
    "plt.xlim([0,1])\n",
    "plt.ylim([0,1])"
   ]
  },
  {
   "cell_type": "markdown",
   "metadata": {},
   "source": [
    "Above, the ROC curve of the best model is plotted with respect to the test data. It tells us, that the model actually not only provides us with a classification (0 or 1), but it also returns a probability for the classes. If we shift the treshold value for classification, we can increase the true positive rate (TPR) while in parallel increasing the false positive rate (FPR = 1 - TNR)."
   ]
  },
  {
   "cell_type": "code",
   "execution_count": 8,
   "metadata": {},
   "outputs": [
    {
     "data": {
      "text/html": [
       "<div>\n",
       "<style scoped>\n",
       "    .dataframe tbody tr th:only-of-type {\n",
       "        vertical-align: middle;\n",
       "    }\n",
       "\n",
       "    .dataframe tbody tr th {\n",
       "        vertical-align: top;\n",
       "    }\n",
       "\n",
       "    .dataframe thead th {\n",
       "        text-align: right;\n",
       "    }\n",
       "</style>\n",
       "<table border=\"1\" class=\"dataframe\">\n",
       "  <thead>\n",
       "    <tr style=\"text-align: right;\">\n",
       "      <th></th>\n",
       "      <th>pred. neg.</th>\n",
       "      <th>pred. pos</th>\n",
       "    </tr>\n",
       "  </thead>\n",
       "  <tbody>\n",
       "    <tr>\n",
       "      <th>neg</th>\n",
       "      <td>7825</td>\n",
       "      <td>2982</td>\n",
       "    </tr>\n",
       "    <tr>\n",
       "      <th>pos</th>\n",
       "      <td>190</td>\n",
       "      <td>799</td>\n",
       "    </tr>\n",
       "  </tbody>\n",
       "</table>\n",
       "</div>"
      ],
      "text/plain": [
       "     pred. neg.  pred. pos\n",
       "neg        7825       2982\n",
       "pos         190        799"
      ]
     },
     "execution_count": 8,
     "metadata": {},
     "output_type": "execute_result"
    }
   ],
   "source": [
    "# Alternative threshold\n",
    "y_pred_alt = (y_test_predict_proba[:, 1]>0.935) #0.82\n",
    "pd.DataFrame(confusion_matrix(1-y_test, 1-y_pred_alt),\n",
    "             columns = ['pred. neg.', 'pred. pos'],\n",
    "             index = ['neg', 'pos'])"
   ]
  },
  {
   "cell_type": "markdown",
   "metadata": {},
   "source": [
    "Here, I have set an alternative threshold. "
   ]
  },
  {
   "cell_type": "markdown",
   "metadata": {},
   "source": [
    "## Loss during training"
   ]
  },
  {
   "cell_type": "markdown",
   "metadata": {},
   "source": [
    "### Best regularization"
   ]
  },
  {
   "cell_type": "code",
   "execution_count": 9,
   "metadata": {},
   "outputs": [],
   "source": [
    "loss_train = pd.read_csv('nn_clf_weightdecay_mort_07/results_0.001_/errors_train__NN_Clf_mort__.csv')\n",
    "loss_val = pd.read_csv('nn_clf_weightdecay_mort_07/results_0.001_/errors_val__NN_Clf_mort__.csv')"
   ]
  },
  {
   "cell_type": "code",
   "execution_count": 10,
   "metadata": {},
   "outputs": [
    {
     "data": {
      "text/plain": [
       "<matplotlib.legend.Legend at 0x3f002e0390>"
      ]
     },
     "execution_count": 10,
     "metadata": {},
     "output_type": "execute_result"
    },
    {
     "data": {
      "image/png": "[encoded data removed]",
      "text/plain": [
       "<Figure size 432x288 with 1 Axes>"
      ]
     },
     "metadata": {
      "needs_background": "light"
     },
     "output_type": "display_data"
    }
   ],
   "source": [
    "plt.plot(loss_val, marker = '.', label = 'val')\n",
    "plt.plot(loss_train, marker = '.', label = 'train')\n",
    "plt.xlabel('iterations [a.u.]')\n",
    "plt.legend()"
   ]
  },
  {
   "cell_type": "markdown",
   "metadata": {},
   "source": [
    "During training the loss (CrossEntropyLoss) is calculated every 10 epochs for the training data and for the validation data. Evaluation mode of the model is used for swichting the dropout layers to correct mode."
   ]
  },
  {
   "cell_type": "markdown",
   "metadata": {},
   "source": [
    "### Underfitting"
   ]
  },
  {
   "cell_type": "code",
   "execution_count": 11,
   "metadata": {},
   "outputs": [],
   "source": [
    "loss_train_underfit = pd.read_csv('nn_clf_weightdecay_mort_07/results_0.004641588833612777_/errors_train__NN_Clf_mort__.csv')\n",
    "loss_val_underfit = pd.read_csv('nn_clf_weightdecay_mort_07/results_0.004641588833612777_/errors_val__NN_Clf_mort__.csv')"
   ]
  },
  {
   "cell_type": "code",
   "execution_count": 12,
   "metadata": {},
   "outputs": [
    {
     "data": {
      "text/plain": [
       "<matplotlib.legend.Legend at 0x3f00349da0>"
      ]
     },
     "execution_count": 12,
     "metadata": {},
     "output_type": "execute_result"
    },
    {
     "data": {
      "image/png": "[encoded data removed]",
      "text/plain": [
       "<Figure size 432x288 with 1 Axes>"
      ]
     },
     "metadata": {
      "needs_background": "light"
     },
     "output_type": "display_data"
    }
   ],
   "source": [
    "plt.plot(loss_val_underfit, marker = '.', label = 'val')\n",
    "plt.plot(loss_train_underfit, marker = '.', label = 'train')\n",
    "plt.xlabel('iterations [a.u.]')\n",
    "plt.legend()"
   ]
  },
  {
   "cell_type": "markdown",
   "metadata": {},
   "source": [
    "The training and the validation loss converge, but at a higher niveau than for optimal weight decay parameter."
   ]
  },
  {
   "cell_type": "markdown",
   "metadata": {},
   "source": [
    "### Overfitting"
   ]
  },
  {
   "cell_type": "code",
   "execution_count": 13,
   "metadata": {},
   "outputs": [],
   "source": [
    "loss_train_overfit = pd.read_csv('nn_clf_weightdecay_mort_07/results_1e-05_/errors_train__NN_Clf_mort__.csv')\n",
    "loss_val_overfit = pd.read_csv('nn_clf_weightdecay_mort_07/results_1e-05_/errors_val__NN_Clf_mort__.csv')"
   ]
  },
  {
   "cell_type": "code",
   "execution_count": 14,
   "metadata": {},
   "outputs": [
    {
     "data": {
      "text/plain": [
       "<matplotlib.legend.Legend at 0x3f003b0438>"
      ]
     },
     "execution_count": 14,
     "metadata": {},
     "output_type": "execute_result"
    },
    {
     "data": {
      "image/png": "[encoded data removed]",
      "text/plain": [
       "<Figure size 432x288 with 1 Axes>"
      ]
     },
     "metadata": {
      "needs_background": "light"
     },
     "output_type": "display_data"
    }
   ],
   "source": [
    "plt.plot(loss_val_overfit, marker = '.', label = 'val')\n",
    "plt.plot(loss_train_overfit, marker = '.', label = 'train')\n",
    "plt.xlabel('iterations [a.u.]')\n",
    "plt.legend()"
   ]
  },
  {
   "cell_type": "markdown",
   "metadata": {},
   "source": [
    "While the training loss keeps decreasing, the validation loss rises."
   ]
  },
  {
   "cell_type": "code",
   "execution_count": null,
   "metadata": {},
   "outputs": [],
   "source": []
  }
 ],
 "metadata": {
  "kernelspec": {
   "display_name": "Python 3",
   "language": "python",
   "name": "python3"
  },
  "language_info": {
   "codemirror_mode": {
    "name": "ipython",
    "version": 3
   },
   "file_extension": ".py",
   "mimetype": "text/x-python",
   "name": "python",
   "nbconvert_exporter": "python",
   "pygments_lexer": "ipython3",
   "version": "3.6.8"
  }
 },
 "nbformat": 4,
 "nbformat_minor": 2
}
